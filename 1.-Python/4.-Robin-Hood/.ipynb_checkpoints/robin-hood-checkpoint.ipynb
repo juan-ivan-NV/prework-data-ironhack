{
 "cells": [
  {
   "cell_type": "markdown",
   "metadata": {},
   "source": [
    "<img src=\"https://bit.ly/2VnXWr2\" width=\"100\" align=\"left\"/>"
   ]
  },
  {
   "cell_type": "markdown",
   "metadata": {},
   "source": [
    "# Robin Hood\n",
    "Robin Hood has entered a competition to win the archery contest in Sherwood. With his bow and arrows, he needs to shoot on a target and try to hit as close as possible to the center.\n",
    "\n",
    "![](images/arrows.jpg)\n",
    "\n",
    "## Context\n",
    "In this challenge, the landing position of arrows shot by archers in the competition will be represented using 2-dimensional coordinates. \n",
    "\n",
    "In the 2-dimensional space, a point can be defined by a pair of values that correspond to the horizontal coordinate (x) and the vertical coordinate (y). For example, in our case, an arrow that hits the center of the archery target will land in position (0, 0) on the coordinate axes. \n",
    "\n",
    "The space can be divided into 4 zones (quadrants): Q1, Q2, Q3, Q4. If a point is in Q1, both its x coordinate and y coordinate are positive. Any point with a null x or y coordinate is considered to not belong to any quadrant. \n",
    "\n",
    "If you want to know more about the cartesian coordinate system, you can check this [link](https://en.wikipedia.org/wiki/Cartesian_coordinate_system). \n",
    "\n",
    "## Tools\n",
    "You don't necessarily need to use all the tools. Maybe you opt to use some of them or completely different ones, they are given to help you shape the exercise. Programming exercises can be solved in many different ways.\n",
    "* Data structures: **lists, sets, tuples**\n",
    "* Conditional statements: **if-elif-else**\n",
    "* Loop: **while/for**\n",
    "* Minimum (optional sorting)\n",
    "\n",
    "## Tasks\n",
    "Robin Hood has hit the following points:"
   ]
  },
  {
   "cell_type": "code",
   "execution_count": 30,
   "metadata": {
    "scrolled": true
   },
   "outputs": [],
   "source": [
    "points = [(4, 5), (-0, 2), (4, 7), (1, -3), (3, -2), (4, 5), (3, 2), (5, 7), (-5, 7), (2, 2), (-4, 5), (0, -2),\n",
    "          (-4, 7), (-1, 3), (-3, 2), (-4, -5), (-3, 2), (5, 7), (5, 7), (2, 2), (9, 9), (-8, -9)]"
   ]
  },
  {
   "cell_type": "markdown",
   "metadata": {},
   "source": [
    "#### 1. Robin Hood is famous for hitting an arrow with another arrow. Find the coordinates of the points where an arrow hits another arrow."
   ]
  },
  {
   "cell_type": "code",
   "execution_count": 33,
   "metadata": {
    "scrolled": true
   },
   "outputs": [
    {
     "name": "stdout",
     "output_type": "stream",
     "text": [
      "Interception points: [(4, 5), (-3, 2), (5, 7), (2, 2)]\n"
     ]
    }
   ],
   "source": [
    "repeated = []\n",
    "unique = []\n",
    "\n",
    "for x in points:\n",
    "    if x not in unique:\n",
    "        unique.append(x)\n",
    "    else:\n",
    "        if x not in repeated:\n",
    "            repeated.append(x)\n",
    "            \n",
    "print('Interception points:', repeated)\n",
    "    "
   ]
  },
  {
   "cell_type": "markdown",
   "metadata": {},
   "source": [
    "#### 2. Calculate how many arrows have fallen in each quadrant. \n",
    "**Note**: the arrows that fall in the axis (x=0 or y=0) don't belong to any quadrant."
   ]
  },
  {
   "cell_type": "code",
   "execution_count": 34,
   "metadata": {},
   "outputs": [
    {
     "name": "stdout",
     "output_type": "stream",
     "text": [
      "Quadrant 1 = 10, Quadrant 2 = 6, Quadrant 3 = 2, Quadrant 4 = 2, Any quadrant = 2 \n"
     ]
    }
   ],
   "source": [
    "quadrant_1 = 0\n",
    "quadrant_2 = 0\n",
    "quadrant_3 = 0\n",
    "quadrant_4 = 0\n",
    "any_quadrant = 0\n",
    "\n",
    "for x,y in points:\n",
    "    if x > 0 and y > 0:\n",
    "        quadrant_1 += 1\n",
    "    elif x < 0 and y > 0:\n",
    "        quadrant_2 += 1\n",
    "    elif x < 0 and y < 0:\n",
    "        quadrant_3 += 1\n",
    "    elif x > 0 and y < 0:\n",
    "        quadrant_4 += 1\n",
    "    else:\n",
    "        any_quadrant += 1\n",
    "\n",
    "print('Quadrant 1 = {}, Quadrant 2 = {}, Quadrant 3 = {}, Quadrant 4 = {}, Any quadrant = {} '.format(quadrant_1,quadrant_2,quadrant_3,quadrant_4, any_quadrant))\n",
    " "
   ]
  },
  {
   "cell_type": "markdown",
   "metadata": {},
   "source": [
    "#### 3. Find the point closest to the center. Calculate its distance to the center. \n",
    "Take into account that there might be more than one point at the minimum distance to the center.\n",
    "\n",
    "**Hint**: Use the Euclidean distance. You can find more information about it [here](https://en.wikipedia.org/wiki/Euclidean_distance).  \n",
    "**Hint**: Defining a function that calculates the distance to the center can help."
   ]
  },
  {
   "cell_type": "code",
   "execution_count": 40,
   "metadata": {},
   "outputs": [
    {
     "name": "stdout",
     "output_type": "stream",
     "text": [
      "The closest point to the center is / are:  [(0, 2), (0, -2)]\n"
     ]
    }
   ],
   "source": [
    "import math\n",
    "p1 = [0,0]\n",
    "\n",
    "distances = []\n",
    "closest_p = []\n",
    "out_r9 = []\n",
    "num_out_r9 = 0\n",
    "\n",
    "for i in points:\n",
    "    distance = math.sqrt(((p1[0]-i[0])**2)+((p1[1]-i[1])**2))\n",
    "    distances.append(distance)\n",
    "for i in points:\n",
    "    if math.sqrt(((p1[0]-i[0])**2)+((p1[1]-i[1])**2)) == min(distances):\n",
    "        closest_p.append(i)\n",
    "    elif math.sqrt(((p1[0]-i[0])**2)+((p1[1]-i[1])**2)) > 9:\n",
    "        out_r9.append(i)\n",
    "        num_out_r9 += 1\n",
    "\n",
    "\n",
    "\n",
    "print('The closest point to the center is / are: ',closest_p )"
   ]
  },
  {
   "cell_type": "markdown",
   "metadata": {},
   "source": [
    "#### 4. If the archery target has a radius of 9, calculate the number of arrows that won't hit the target. \n",
    "**Hint**: Use the function created in step 3. "
   ]
  },
  {
   "cell_type": "code",
   "execution_count": 41,
   "metadata": {
    "scrolled": true
   },
   "outputs": [
    {
     "name": "stdout",
     "output_type": "stream",
     "text": [
      "Points out of target with radius 9 are:  [(9, 9), (-8, -9)]\n"
     ]
    }
   ],
   "source": [
    "print('Points out of target with radius 9 are: ',out_r9)"
   ]
  },
  {
   "cell_type": "code",
   "execution_count": 42,
   "metadata": {},
   "outputs": [
    {
     "name": "stdout",
     "output_type": "stream",
     "text": [
      "Points out of target with radius 9 are: 2 with coordinates [(9, 9), (-8, -9)]\n"
     ]
    }
   ],
   "source": [
    "print('Points out of target with radius 9 are: {} with coordinates {}'.format(num_out_r9,out_r9))"
   ]
  },
  {
   "cell_type": "code",
   "execution_count": null,
   "metadata": {},
   "outputs": [],
   "source": []
  }
 ],
 "metadata": {
  "kernelspec": {
   "display_name": "Python 3",
   "language": "python",
   "name": "python3"
  },
  "language_info": {
   "codemirror_mode": {
    "name": "ipython",
    "version": 3
   },
   "file_extension": ".py",
   "mimetype": "text/x-python",
   "name": "python",
   "nbconvert_exporter": "python",
   "pygments_lexer": "ipython3",
   "version": "3.6.9"
  }
 },
 "nbformat": 4,
 "nbformat_minor": 2
}
