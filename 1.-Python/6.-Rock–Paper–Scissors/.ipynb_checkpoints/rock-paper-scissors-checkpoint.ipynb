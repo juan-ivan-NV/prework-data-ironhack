{
 "cells": [
  {
   "cell_type": "markdown",
   "metadata": {},
   "source": [
    "<img src=\"https://bit.ly/2VnXWr2\" width=\"100\" align=\"left\">"
   ]
  },
  {
   "cell_type": "markdown",
   "metadata": {},
   "source": [
    "# Rock, Paper & Scissors\n",
    "\n",
    "Let's play the famous game against our computer. You can check the rules [here](https://en.wikipedia.org/wiki/Rock%E2%80%93paper%E2%80%93scissors). \n",
    "\n",
    "## Task\n",
    "Create a program that imitates the playability of the well known game of rock, paper, scissors. Follow the guidelines provided.\n",
    "\n",
    "## Tools\n",
    "1. Loop: **for/while**\n",
    "2. Functions: **input(), print()...**\n",
    "3. Conditional statements: **if, elif, else**\n",
    "4. Definition of functions. Modular programming\n",
    "5. Import modules\n",
    "\n",
    "**To solve this challenge, the use of functions is recommended.**\n",
    "\n",
    "#### 1. Import the choice function of the random module."
   ]
  },
  {
   "cell_type": "code",
   "execution_count": 1,
   "metadata": {},
   "outputs": [
    {
     "name": "stdout",
     "output_type": "stream",
     "text": [
      " This game is rock, paper or scissors. \n",
      "\n"
     ]
    }
   ],
   "source": [
    "print(' This game is rock, paper or scissors. \\n')\n",
    "import random"
   ]
  },
  {
   "cell_type": "markdown",
   "metadata": {},
   "source": [
    "#### 2. Create a list that includes the 3 possible gesture options of the game: 'rock', 'paper' or 'scissors'. Store the list in a variable called `gestures`."
   ]
  },
  {
   "cell_type": "code",
   "execution_count": 2,
   "metadata": {},
   "outputs": [],
   "source": [
    "gestures = ['Rock','Paper','Scissors']"
   ]
  },
  {
   "cell_type": "markdown",
   "metadata": {},
   "source": [
    "#### 3. Create a variable called `n_rounds` to store the maximum number of rounds to play in a game. \n",
    "Remember that the number of rounds must be odd: 1, 3, 5, ..."
   ]
  },
  {
   "cell_type": "code",
   "execution_count": 3,
   "metadata": {},
   "outputs": [],
   "source": [
    "n_rounds = 3"
   ]
  },
  {
   "cell_type": "markdown",
   "metadata": {},
   "source": [
    "#### 4. Create a variable called `rounds_to_win` to store the number of rounds that a player must win to win the game.\n",
    "**Hint**: the value stored in `rounds_to_win` depends on the value of `n_rounds`. "
   ]
  },
  {
   "cell_type": "code",
   "execution_count": 4,
   "metadata": {},
   "outputs": [],
   "source": [
    "rounds_to_win = 2"
   ]
  },
  {
   "cell_type": "markdown",
   "metadata": {},
   "source": [
    "#### 5. Create two variables to store the number of rounds that the computer and the player have won. Call these variables `cpu_score` and `player_score`."
   ]
  },
  {
   "cell_type": "code",
   "execution_count": 5,
   "metadata": {},
   "outputs": [],
   "source": [
    "cpu_score  = 0\n",
    "player_score = 0"
   ]
  },
  {
   "cell_type": "markdown",
   "metadata": {},
   "source": [
    "#### 6. Define a function that randomly returns one of the 3 gesture options.\n",
    "You will use this function to simulate the gesture choice of the computer. "
   ]
  },
  {
   "cell_type": "code",
   "execution_count": 6,
   "metadata": {},
   "outputs": [],
   "source": [
    "def cpu_choice(gestures):\n",
    "    comp_choice = random.randint(1,3)\n",
    "    if comp_choice == 1:\n",
    "        return gestures [0]\n",
    "    elif comp_choice == 2:\n",
    "        return gestures [1]\n",
    "    else: \n",
    "        return gestures [2]"
   ]
  },
  {
   "cell_type": "markdown",
   "metadata": {},
   "source": [
    "#### 7. Define a function that asks the player which is the gesture he or she wants to show: 'rock', 'paper' or 'scissors'.\n",
    "The player should only be allowed to choose one of the 3 gesture options. If the player's choice is not rock, paper or scissors, keep asking until it is."
   ]
  },
  {
   "cell_type": "code",
   "execution_count": 7,
   "metadata": {},
   "outputs": [],
   "source": [
    "def usr_choi(gestures):\n",
    "    print('Enter the number of your choice: \\n 1: %s \\n 2: %s \\n 3.- %s '%(gestures[0], gestures[1], gestures[2]))\n",
    "    user_choice = int(input(' Number: '))\n",
    "\n",
    "    while user_choice > 3 or user_choice < 1:\n",
    "        user_choice = int(input('Enter a valid number: '))\n",
    "\n",
    "    if user_choice == 1:\n",
    "        return gestures [0]\n",
    "    if user_choice == 2:\n",
    "        return gestures [1]\n",
    "    if user_choice == 3:\n",
    "        return gestures [2]"
   ]
  },
  {
   "cell_type": "markdown",
   "metadata": {},
   "source": [
    "#### 8. Define a function that checks who won a round. \n",
    "The function should return 0 if there is a tie, 1 if the computer wins and 2 if the player wins."
   ]
  },
  {
   "cell_type": "code",
   "execution_count": 8,
   "metadata": {},
   "outputs": [],
   "source": [
    "def round(user,cpu,gestures):\n",
    "    if user == cpu:\n",
    "        return 0\n",
    "    elif user == gestures [0] and cpu == gestures [1]:\n",
    "        return 1\n",
    "    elif user == gestures [0] and cpu == gestures [2]:\n",
    "        return 2\n",
    "    elif user == gestures [1] and cpu == gestures [2]:\n",
    "        return 1\n",
    "    elif user == gestures [1] and cpu == gestures [0]:\n",
    "        return 2\n",
    "    elif user == gestures [2] and cpu == gestures [0]:\n",
    "        return 1\n",
    "    elif user == gestures [2] and cpu == gestures [1]:\n",
    "        return 2"
   ]
  },
  {
   "cell_type": "markdown",
   "metadata": {},
   "source": [
    "#### 9. Define a function that prints the choice of the computer, the choice of the player and a message that announces who won the current round. \n",
    "You should also use this function to update the variables that count the number of rounds that the computer and the player have won. The score of the winner increases by one point. If there is a tie, the score does not increase."
   ]
  },
  {
   "cell_type": "code",
   "execution_count": 9,
   "metadata": {},
   "outputs": [],
   "source": [
    "def round_winner(round,user,cpu,):\n",
    "    print('The computer´s choice is {} and your choice is {}'.format(cpu,user))\n",
    "    if round(user,cpu,gestures) == 0:\n",
    "        print('Round tie')\n",
    "    elif round(user,cpu,gestures) == 1:\n",
    "        print('The computer wins this round')\n",
    "    elif round(user,cpu,gestures) == 2:\n",
    "        print('You win')\n",
    "    else:\n",
    "        pass"
   ]
  },
  {
   "cell_type": "markdown",
   "metadata": {},
   "source": [
    "#### 10. Now it's time to code the execution of the game using the functions and variables you defined above. \n",
    "\n",
    "First, create a loop structure that repeats while no player reaches the minimum score necessary to win and the number of rounds is less than the maximum number of rounds to play in a game.  \n",
    "\n",
    "Inside the loop, use the functions and variables above to create the execution of a round: ask for the player's choice, generate the random choice of the computer, show the round results, update the scores, etc. "
   ]
  },
  {
   "cell_type": "code",
   "execution_count": 12,
   "metadata": {},
   "outputs": [
    {
     "name": "stdout",
     "output_type": "stream",
     "text": [
      "Enter the number of your choice: \n",
      " 1: Rock \n",
      " 2: Paper \n",
      " 3.- Scissors \n",
      " Number: 2\n",
      "Paper\n",
      "The computer´s choice is Rock and your choice is Paper\n",
      "You win\n",
      "None\n",
      "The computer wins the game\n"
     ]
    }
   ],
   "source": [
    "actual_round = 0\n",
    "\n",
    "while actual_round < n_rounds:\n",
    "    \n",
    "    actual_round += 1\n",
    "    \n",
    "    def cpu_choice(gestures):\n",
    "        comp_choice = random.randint(1,3)\n",
    "        if comp_choice == 1:\n",
    "            return gestures [0]\n",
    "        elif comp_choice == 2:\n",
    "            return gestures [1]\n",
    "        else: \n",
    "            return gestures [2]\n",
    "    cpu = cpu_choice(gestures)\n",
    "    \n",
    "    def usr_choi(gestures):\n",
    "        print('Enter the number of your choice: \\n 1: %s \\n 2: %s \\n 3.- %s '%(gestures[0], gestures[1], gestures[2]))\n",
    "        user_choice = int(input(' Number: '))\n",
    "\n",
    "        while user_choice > 3 or user_choice < 1:\n",
    "            user_choice = int(input('Enter a valid number: '))\n",
    "\n",
    "        if user_choice == 1:\n",
    "            return gestures [0]\n",
    "        if user_choice == 2:\n",
    "            return gestures [1]\n",
    "        if user_choice == 3:\n",
    "            return gestures [2]\n",
    "    user = usr_choi(gestures)\n",
    "    print(user)\n",
    "    \n",
    "    def round(user,cpu,gestures):\n",
    "        if user == cpu:\n",
    "            return 0\n",
    "        elif user == gestures [0] and cpu == gestures [1]:\n",
    "            return 1\n",
    "        elif user == gestures [0] and cpu == gestures [2]:\n",
    "            return 2\n",
    "        elif user == gestures [1] and cpu == gestures [2]:\n",
    "            return 1\n",
    "        elif user == gestures [1] and cpu == gestures [0]:\n",
    "            return 2\n",
    "        elif user == gestures [2] and cpu == gestures [0]:\n",
    "            return 1\n",
    "        elif user == gestures [2] and cpu == gestures [1]:\n",
    "            return 2\n",
    "    \n",
    "    def round_winner(round,user,cpu):\n",
    "        print('The computer´s choice is {} and your choice is {}'.format(cpu,user))\n",
    "        if round(user,cpu,gestures) == 0:\n",
    "            print('Round tie')\n",
    "        elif round(user,cpu,gestures) == 1:\n",
    "            print('The computer wins this round')\n",
    "        elif round(user,cpu,gestures) == 2:\n",
    "            print('You win')\n",
    "        else:\n",
    "            pass\n",
    "    print(round_winner(round,user,cpu))\n",
    "\n",
    "    if round(user,cpu,gestures) == 1:\n",
    "        cpu_score +=1\n",
    "    elif round(user,cpu,gestures) == 2:\n",
    "        player_score +=1\n",
    "    else:\n",
    "        pass\n",
    "    \n",
    "    if player_score == rounds_to_win:\n",
    "        print('you win the game')\n",
    "        break\n",
    "    elif cpu_score == rounds_to_win:\n",
    "        print('The computer wins the game')\n",
    "        break"
   ]
  },
  {
   "cell_type": "markdown",
   "metadata": {},
   "source": [
    "#### 11. Print the winner of the game based on who won more rounds.\n",
    "Remember that the game might be tied. "
   ]
  },
  {
   "cell_type": "code",
   "execution_count": 11,
   "metadata": {},
   "outputs": [
    {
     "name": "stdout",
     "output_type": "stream",
     "text": [
      "The computer wins the game\n"
     ]
    }
   ],
   "source": [
    "if player_score == rounds_to_win:\n",
    "    print('you win the game')\n",
    "elif cpu_score == rounds_to_win:\n",
    "    print('The computer wins the game')"
   ]
  },
  {
   "cell_type": "markdown",
   "metadata": {},
   "source": [
    "# Bonus: Rock, Paper, Scissors, Lizard & Spock\n",
    "![](images/rpsls.jpg)\n",
    "\n",
    "In this challenge, you need to improve the previous game by adding two new options. To know more about the rules of the improved version of rock, paper, scissors, check this [link](http://www.samkass.com/theories/RPSSL.html). \n",
    "\n",
    "In addition, you will also need to improve how the game interacts with the player: the number of rounds to play, which must be an odd number, will be requested to the user until a valid number is entered. Define a new function to make that request.\n",
    "\n",
    "**Hint**: Try to reuse the code that you already coded in the previous challenge. If your code is efficient, this bonus will only consist of simple modifications to the original game."
   ]
  },
  {
   "cell_type": "code",
   "execution_count": 14,
   "metadata": {
    "scrolled": true
   },
   "outputs": [
    {
     "name": "stdout",
     "output_type": "stream",
     "text": [
      " This game is rock, paper or scissors. \n",
      "\n",
      "How many rounds would you like play?, the number should be odd. \n",
      "Number: 10\n",
      "Enter a valid number: 3\n",
      "\n",
      "    Round number 1\n",
      "Enter the number of your choice: \n",
      " 1: Rock \n",
      " 2: Paper \n",
      " 3.- Scissors \n",
      " Number: 1\n",
      "Rock\n",
      "\n",
      "The computer´s choice is Scissors and your choice is Rock\n",
      "You win\n",
      "None\n",
      "\n",
      "    Round number 2\n",
      "Enter the number of your choice: \n",
      " 1: Rock \n",
      " 2: Paper \n",
      " 3.- Scissors \n",
      " Number: 1\n",
      "Rock\n",
      "\n",
      "The computer´s choice is Rock and your choice is Rock\n",
      "Round tie\n",
      "None\n",
      "\n",
      "    Round number 3\n",
      "Enter the number of your choice: \n",
      " 1: Rock \n",
      " 2: Paper \n",
      " 3.- Scissors \n",
      " Number: 1\n",
      "Rock\n",
      "\n",
      "The computer´s choice is Rock and your choice is Rock\n",
      "Round tie\n",
      "None\n",
      "\n",
      "    One more round to designate a champion\n",
      "\n",
      "    Round number 4\n",
      "Enter the number of your choice: \n",
      " 1: Rock \n",
      " 2: Paper \n",
      " 3.- Scissors \n",
      " Number: 2\n",
      "Paper\n",
      "\n",
      "The computer´s choice is Scissors and your choice is Paper\n",
      "The computer wins this round\n",
      "None\n",
      "\n",
      "    One more round to designate a champion\n",
      "\n",
      "    Round number 5\n",
      "Enter the number of your choice: \n",
      " 1: Rock \n",
      " 2: Paper \n",
      " 3.- Scissors \n",
      " Number: 3\n",
      "Scissors\n",
      "\n",
      "The computer´s choice is Rock and your choice is Scissors\n",
      "The computer wins this round\n",
      "None\n",
      "\n",
      "The computer wins the game\n"
     ]
    }
   ],
   "source": [
    "print(' This game is rock, paper or scissors. \\n')\n",
    "import random\n",
    "gestures = ['Rock','Paper','Scissors']\n",
    "cpu_score  = 0\n",
    "player_score = 0\n",
    "actual_round = 0\n",
    "\n",
    "print('Decide the rounds of the match, Enter a odd number ')\n",
    "n_rounds = int(input('Number: '))\n",
    "while n_rounds % 2 == 0 or n_rounds == 0:\n",
    "    n_rounds = int(input('Enter a valid number: '))\n",
    "\n",
    "rounds_to_win = (n_rounds/2) + 0.5\n",
    "\n",
    "while True:\n",
    "    \n",
    "    actual_round += 1\n",
    "    if actual_round > n_rounds:\n",
    "        print('\\n    One more round to designate a champion')\n",
    "\n",
    "    print('\\n    Round number {}'.format(actual_round))\n",
    "    def cpu_choice(gestures):\n",
    "        comp_choice = random.randint(1,3)\n",
    "        if comp_choice == 1:\n",
    "            return gestures [0]\n",
    "        elif comp_choice == 2:\n",
    "            return gestures [1]\n",
    "        else: \n",
    "            return gestures [2]\n",
    "    cpu = cpu_choice(gestures)\n",
    "    \n",
    "    def usr_choi(gestures):\n",
    "        print('Enter the number of your choice: \\n 1: %s \\n 2: %s \\n 3.- %s '%(gestures[0], gestures[1], gestures[2]))\n",
    "        user_choice = int(input(' Number: '))\n",
    "\n",
    "        while user_choice > 3 or user_choice < 1:\n",
    "            user_choice = int(input('Enter a valid number: '))\n",
    "\n",
    "        if user_choice == 1:\n",
    "            return gestures [0]\n",
    "        if user_choice == 2:\n",
    "            return gestures [1]\n",
    "        if user_choice == 3:\n",
    "            return gestures [2]\n",
    "    user = usr_choi(gestures)\n",
    "    print(user)\n",
    "    \n",
    "    def round(user,cpu,gestures):\n",
    "        if user == cpu:\n",
    "            return 0\n",
    "        elif (user == gestures [0] and cpu == gestures [1]) or (user == gestures [1] and cpu == gestures [2]):\n",
    "            return 1\n",
    "        elif (user == gestures [0] and cpu == gestures [2]) or (user == gestures [1] and cpu == gestures [0]):\n",
    "            return 2\n",
    "        elif user == gestures [2] and cpu == gestures [0]:\n",
    "            return 1\n",
    "        elif user == gestures [2] and cpu == gestures [1]:\n",
    "            return 2\n",
    "    \n",
    "    def round_winner(round,user,cpu):\n",
    "        print('\\nThe computer´s choice is {} and your choice is {}'.format(cpu,user))\n",
    "        if round(user,cpu,gestures) == 0:\n",
    "            print('Round tie')\n",
    "        elif round(user,cpu,gestures) == 1:\n",
    "            print('The computer wins this round')\n",
    "        elif round(user,cpu,gestures) == 2:\n",
    "            print('You win')\n",
    "        else:\n",
    "            pass\n",
    "    print(round_winner(round,user,cpu))\n",
    "\n",
    "    if round(user,cpu,gestures) == 1:\n",
    "        cpu_score +=1\n",
    "    elif round(user,cpu,gestures) == 2:\n",
    "        player_score +=1\n",
    "    else:\n",
    "        pass\n",
    "    \n",
    "    if player_score == rounds_to_win:\n",
    "        print('\\nyou win the game')\n",
    "        break\n",
    "    elif cpu_score == rounds_to_win:\n",
    "        print('\\nThe computer wins the game')\n",
    "        break"
   ]
  },
  {
   "cell_type": "code",
   "execution_count": null,
   "metadata": {},
   "outputs": [],
   "source": []
  }
 ],
 "metadata": {
  "kernelspec": {
   "display_name": "Python 3",
   "language": "python",
   "name": "python3"
  },
  "language_info": {
   "codemirror_mode": {
    "name": "ipython",
    "version": 3
   },
   "file_extension": ".py",
   "mimetype": "text/x-python",
   "name": "python",
   "nbconvert_exporter": "python",
   "pygments_lexer": "ipython3",
   "version": "3.6.9"
  }
 },
 "nbformat": 4,
 "nbformat_minor": 2
}
